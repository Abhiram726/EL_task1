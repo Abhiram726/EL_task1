{
  "cells": [
    {
      "cell_type": "code",
      "execution_count": 25,
      "metadata": {
        "id": "muzXBYVQzhkB"
      },
      "outputs": [],
      "source": [
        "import pandas as pd"
      ]
    },
    {
      "cell_type": "code",
      "execution_count": 26,
      "metadata": {
        "collapsed": true,
        "id": "k9-iURaq0LfK"
      },
      "outputs": [
        {
          "data": {
            "text/html": [
              "<div>\n",
              "<style scoped>\n",
              "    .dataframe tbody tr th:only-of-type {\n",
              "        vertical-align: middle;\n",
              "    }\n",
              "\n",
              "    .dataframe tbody tr th {\n",
              "        vertical-align: top;\n",
              "    }\n",
              "\n",
              "    .dataframe thead th {\n",
              "        text-align: right;\n",
              "    }\n",
              "</style>\n",
              "<table border=\"1\" class=\"dataframe\">\n",
              "  <thead>\n",
              "    <tr style=\"text-align: right;\">\n",
              "      <th></th>\n",
              "      <th>show_id</th>\n",
              "      <th>type</th>\n",
              "      <th>title</th>\n",
              "      <th>director</th>\n",
              "      <th>cast</th>\n",
              "      <th>country</th>\n",
              "      <th>date_added</th>\n",
              "      <th>release_year</th>\n",
              "      <th>rating</th>\n",
              "      <th>duration</th>\n",
              "      <th>listed_in</th>\n",
              "      <th>description</th>\n",
              "    </tr>\n",
              "  </thead>\n",
              "  <tbody>\n",
              "    <tr>\n",
              "      <th>0</th>\n",
              "      <td>s1</td>\n",
              "      <td>Movie</td>\n",
              "      <td>Dick Johnson Is Dead</td>\n",
              "      <td>Kirsten Johnson</td>\n",
              "      <td>NaN</td>\n",
              "      <td>United States</td>\n",
              "      <td>September 25, 2021</td>\n",
              "      <td>2020</td>\n",
              "      <td>PG-13</td>\n",
              "      <td>90 min</td>\n",
              "      <td>Documentaries</td>\n",
              "      <td>As her father nears the end of his life, filmm...</td>\n",
              "    </tr>\n",
              "    <tr>\n",
              "      <th>1</th>\n",
              "      <td>s2</td>\n",
              "      <td>TV Show</td>\n",
              "      <td>Blood &amp; Water</td>\n",
              "      <td>NaN</td>\n",
              "      <td>Ama Qamata, Khosi Ngema, Gail Mabalane, Thaban...</td>\n",
              "      <td>South Africa</td>\n",
              "      <td>September 24, 2021</td>\n",
              "      <td>2021</td>\n",
              "      <td>TV-MA</td>\n",
              "      <td>2 Seasons</td>\n",
              "      <td>International TV Shows, TV Dramas, TV Mysteries</td>\n",
              "      <td>After crossing paths at a party, a Cape Town t...</td>\n",
              "    </tr>\n",
              "    <tr>\n",
              "      <th>2</th>\n",
              "      <td>s3</td>\n",
              "      <td>TV Show</td>\n",
              "      <td>Ganglands</td>\n",
              "      <td>Julien Leclercq</td>\n",
              "      <td>Sami Bouajila, Tracy Gotoas, Samuel Jouy, Nabi...</td>\n",
              "      <td>NaN</td>\n",
              "      <td>September 24, 2021</td>\n",
              "      <td>2021</td>\n",
              "      <td>TV-MA</td>\n",
              "      <td>1 Season</td>\n",
              "      <td>Crime TV Shows, International TV Shows, TV Act...</td>\n",
              "      <td>To protect his family from a powerful drug lor...</td>\n",
              "    </tr>\n",
              "    <tr>\n",
              "      <th>3</th>\n",
              "      <td>s4</td>\n",
              "      <td>TV Show</td>\n",
              "      <td>Jailbirds New Orleans</td>\n",
              "      <td>NaN</td>\n",
              "      <td>NaN</td>\n",
              "      <td>NaN</td>\n",
              "      <td>September 24, 2021</td>\n",
              "      <td>2021</td>\n",
              "      <td>TV-MA</td>\n",
              "      <td>1 Season</td>\n",
              "      <td>Docuseries, Reality TV</td>\n",
              "      <td>Feuds, flirtations and toilet talk go down amo...</td>\n",
              "    </tr>\n",
              "    <tr>\n",
              "      <th>4</th>\n",
              "      <td>s5</td>\n",
              "      <td>TV Show</td>\n",
              "      <td>Kota Factory</td>\n",
              "      <td>NaN</td>\n",
              "      <td>Mayur More, Jitendra Kumar, Ranjan Raj, Alam K...</td>\n",
              "      <td>India</td>\n",
              "      <td>September 24, 2021</td>\n",
              "      <td>2021</td>\n",
              "      <td>TV-MA</td>\n",
              "      <td>2 Seasons</td>\n",
              "      <td>International TV Shows, Romantic TV Shows, TV ...</td>\n",
              "      <td>In a city of coaching centers known to train I...</td>\n",
              "    </tr>\n",
              "  </tbody>\n",
              "</table>\n",
              "</div>"
            ],
            "text/plain": [
              "  show_id     type                  title         director  \\\n",
              "0      s1    Movie   Dick Johnson Is Dead  Kirsten Johnson   \n",
              "1      s2  TV Show          Blood & Water              NaN   \n",
              "2      s3  TV Show              Ganglands  Julien Leclercq   \n",
              "3      s4  TV Show  Jailbirds New Orleans              NaN   \n",
              "4      s5  TV Show           Kota Factory              NaN   \n",
              "\n",
              "                                                cast        country  \\\n",
              "0                                                NaN  United States   \n",
              "1  Ama Qamata, Khosi Ngema, Gail Mabalane, Thaban...   South Africa   \n",
              "2  Sami Bouajila, Tracy Gotoas, Samuel Jouy, Nabi...            NaN   \n",
              "3                                                NaN            NaN   \n",
              "4  Mayur More, Jitendra Kumar, Ranjan Raj, Alam K...          India   \n",
              "\n",
              "           date_added  release_year rating   duration  \\\n",
              "0  September 25, 2021          2020  PG-13     90 min   \n",
              "1  September 24, 2021          2021  TV-MA  2 Seasons   \n",
              "2  September 24, 2021          2021  TV-MA   1 Season   \n",
              "3  September 24, 2021          2021  TV-MA   1 Season   \n",
              "4  September 24, 2021          2021  TV-MA  2 Seasons   \n",
              "\n",
              "                                           listed_in  \\\n",
              "0                                      Documentaries   \n",
              "1    International TV Shows, TV Dramas, TV Mysteries   \n",
              "2  Crime TV Shows, International TV Shows, TV Act...   \n",
              "3                             Docuseries, Reality TV   \n",
              "4  International TV Shows, Romantic TV Shows, TV ...   \n",
              "\n",
              "                                         description  \n",
              "0  As her father nears the end of his life, filmm...  \n",
              "1  After crossing paths at a party, a Cape Town t...  \n",
              "2  To protect his family from a powerful drug lor...  \n",
              "3  Feuds, flirtations and toilet talk go down amo...  \n",
              "4  In a city of coaching centers known to train I...  "
            ]
          },
          "execution_count": 26,
          "metadata": {},
          "output_type": "execute_result"
        }
      ],
      "source": [
        "df = pd.read_csv(\"netflix_titles.csv\")\n",
        "df.head()"
      ]
    },
    {
      "cell_type": "code",
      "execution_count": 27,
      "metadata": {
        "id": "_TRKl1bZ7QHt"
      },
      "outputs": [
        {
          "data": {
            "text/html": [
              "<div>\n",
              "<style scoped>\n",
              "    .dataframe tbody tr th:only-of-type {\n",
              "        vertical-align: middle;\n",
              "    }\n",
              "\n",
              "    .dataframe tbody tr th {\n",
              "        vertical-align: top;\n",
              "    }\n",
              "\n",
              "    .dataframe thead th {\n",
              "        text-align: right;\n",
              "    }\n",
              "</style>\n",
              "<table border=\"1\" class=\"dataframe\">\n",
              "  <thead>\n",
              "    <tr style=\"text-align: right;\">\n",
              "      <th></th>\n",
              "      <th>show_id</th>\n",
              "      <th>type</th>\n",
              "      <th>title</th>\n",
              "      <th>director</th>\n",
              "      <th>cast</th>\n",
              "      <th>country</th>\n",
              "      <th>date_added</th>\n",
              "      <th>release_year</th>\n",
              "      <th>rating</th>\n",
              "      <th>duration</th>\n",
              "      <th>listed_in</th>\n",
              "      <th>description</th>\n",
              "    </tr>\n",
              "  </thead>\n",
              "  <tbody>\n",
              "    <tr>\n",
              "      <th>7</th>\n",
              "      <td>s8</td>\n",
              "      <td>Movie</td>\n",
              "      <td>Sankofa</td>\n",
              "      <td>Haile Gerima</td>\n",
              "      <td>Kofi Ghanaba, Oyafunmike Ogunlano, Alexandra D...</td>\n",
              "      <td>United States, Ghana, Burkina Faso, United Kin...</td>\n",
              "      <td>September 24, 2021</td>\n",
              "      <td>1993</td>\n",
              "      <td>TV-MA</td>\n",
              "      <td>125 min</td>\n",
              "      <td>Dramas, Independent Movies, International Movies</td>\n",
              "      <td>On a photo shoot in Ghana, an American model s...</td>\n",
              "    </tr>\n",
              "    <tr>\n",
              "      <th>8</th>\n",
              "      <td>s9</td>\n",
              "      <td>TV Show</td>\n",
              "      <td>The Great British Baking Show</td>\n",
              "      <td>Andy Devonshire</td>\n",
              "      <td>Mel Giedroyc, Sue Perkins, Mary Berry, Paul Ho...</td>\n",
              "      <td>United Kingdom</td>\n",
              "      <td>September 24, 2021</td>\n",
              "      <td>2021</td>\n",
              "      <td>TV-14</td>\n",
              "      <td>9 Seasons</td>\n",
              "      <td>British TV Shows, Reality TV</td>\n",
              "      <td>A talented batch of amateur bakers face off in...</td>\n",
              "    </tr>\n",
              "    <tr>\n",
              "      <th>9</th>\n",
              "      <td>s10</td>\n",
              "      <td>Movie</td>\n",
              "      <td>The Starling</td>\n",
              "      <td>Theodore Melfi</td>\n",
              "      <td>Melissa McCarthy, Chris O'Dowd, Kevin Kline, T...</td>\n",
              "      <td>United States</td>\n",
              "      <td>September 24, 2021</td>\n",
              "      <td>2021</td>\n",
              "      <td>PG-13</td>\n",
              "      <td>104 min</td>\n",
              "      <td>Comedies, Dramas</td>\n",
              "      <td>A woman adjusting to life after a loss contend...</td>\n",
              "    </tr>\n",
              "    <tr>\n",
              "      <th>12</th>\n",
              "      <td>s13</td>\n",
              "      <td>Movie</td>\n",
              "      <td>Je Suis Karl</td>\n",
              "      <td>Christian Schwochow</td>\n",
              "      <td>Luna Wedler, Jannis Niewöhner, Milan Peschel, ...</td>\n",
              "      <td>Germany, Czech Republic</td>\n",
              "      <td>September 23, 2021</td>\n",
              "      <td>2021</td>\n",
              "      <td>TV-MA</td>\n",
              "      <td>127 min</td>\n",
              "      <td>Dramas, International Movies</td>\n",
              "      <td>After most of her family is murdered in a terr...</td>\n",
              "    </tr>\n",
              "    <tr>\n",
              "      <th>24</th>\n",
              "      <td>s25</td>\n",
              "      <td>Movie</td>\n",
              "      <td>Jeans</td>\n",
              "      <td>S. Shankar</td>\n",
              "      <td>Prashanth, Aishwarya Rai Bachchan, Sri Lakshmi...</td>\n",
              "      <td>India</td>\n",
              "      <td>September 21, 2021</td>\n",
              "      <td>1998</td>\n",
              "      <td>TV-14</td>\n",
              "      <td>166 min</td>\n",
              "      <td>Comedies, International Movies, Romantic Movies</td>\n",
              "      <td>When the father of the man she loves insists t...</td>\n",
              "    </tr>\n",
              "  </tbody>\n",
              "</table>\n",
              "</div>"
            ],
            "text/plain": [
              "   show_id     type                          title             director  \\\n",
              "7       s8    Movie                        Sankofa         Haile Gerima   \n",
              "8       s9  TV Show  The Great British Baking Show      Andy Devonshire   \n",
              "9      s10    Movie                   The Starling       Theodore Melfi   \n",
              "12     s13    Movie                   Je Suis Karl  Christian Schwochow   \n",
              "24     s25    Movie                          Jeans           S. Shankar   \n",
              "\n",
              "                                                 cast  \\\n",
              "7   Kofi Ghanaba, Oyafunmike Ogunlano, Alexandra D...   \n",
              "8   Mel Giedroyc, Sue Perkins, Mary Berry, Paul Ho...   \n",
              "9   Melissa McCarthy, Chris O'Dowd, Kevin Kline, T...   \n",
              "12  Luna Wedler, Jannis Niewöhner, Milan Peschel, ...   \n",
              "24  Prashanth, Aishwarya Rai Bachchan, Sri Lakshmi...   \n",
              "\n",
              "                                              country          date_added  \\\n",
              "7   United States, Ghana, Burkina Faso, United Kin...  September 24, 2021   \n",
              "8                                      United Kingdom  September 24, 2021   \n",
              "9                                       United States  September 24, 2021   \n",
              "12                            Germany, Czech Republic  September 23, 2021   \n",
              "24                                              India  September 21, 2021   \n",
              "\n",
              "    release_year rating   duration  \\\n",
              "7           1993  TV-MA    125 min   \n",
              "8           2021  TV-14  9 Seasons   \n",
              "9           2021  PG-13    104 min   \n",
              "12          2021  TV-MA    127 min   \n",
              "24          1998  TV-14    166 min   \n",
              "\n",
              "                                           listed_in  \\\n",
              "7   Dramas, Independent Movies, International Movies   \n",
              "8                       British TV Shows, Reality TV   \n",
              "9                                   Comedies, Dramas   \n",
              "12                      Dramas, International Movies   \n",
              "24   Comedies, International Movies, Romantic Movies   \n",
              "\n",
              "                                          description  \n",
              "7   On a photo shoot in Ghana, an American model s...  \n",
              "8   A talented batch of amateur bakers face off in...  \n",
              "9   A woman adjusting to life after a loss contend...  \n",
              "12  After most of her family is murdered in a terr...  \n",
              "24  When the father of the man she loves insists t...  "
            ]
          },
          "execution_count": 27,
          "metadata": {},
          "output_type": "execute_result"
        }
      ],
      "source": [
        "df_rows_cleaned=df.dropna(inplace=True)\n",
        "df.head()\n"
      ]
    },
    {
      "cell_type": "code",
      "execution_count": 28,
      "metadata": {
        "collapsed": true,
        "id": "d44nYbJY8DlK"
      },
      "outputs": [
        {
          "data": {
            "text/html": [
              "<div>\n",
              "<style scoped>\n",
              "    .dataframe tbody tr th:only-of-type {\n",
              "        vertical-align: middle;\n",
              "    }\n",
              "\n",
              "    .dataframe tbody tr th {\n",
              "        vertical-align: top;\n",
              "    }\n",
              "\n",
              "    .dataframe thead th {\n",
              "        text-align: right;\n",
              "    }\n",
              "</style>\n",
              "<table border=\"1\" class=\"dataframe\">\n",
              "  <thead>\n",
              "    <tr style=\"text-align: right;\">\n",
              "      <th></th>\n",
              "      <th>show_id</th>\n",
              "      <th>type</th>\n",
              "      <th>title</th>\n",
              "      <th>director</th>\n",
              "      <th>cast</th>\n",
              "      <th>country</th>\n",
              "      <th>date_added</th>\n",
              "      <th>release_year</th>\n",
              "      <th>rating</th>\n",
              "      <th>duration</th>\n",
              "      <th>listed_in</th>\n",
              "      <th>description</th>\n",
              "    </tr>\n",
              "  </thead>\n",
              "  <tbody>\n",
              "    <tr>\n",
              "      <th>7</th>\n",
              "      <td>s8</td>\n",
              "      <td>Movie</td>\n",
              "      <td>Sankofa</td>\n",
              "      <td>Haile Gerima</td>\n",
              "      <td>Kofi Ghanaba, Oyafunmike Ogunlano, Alexandra D...</td>\n",
              "      <td>United States, Ghana, Burkina Faso, United Kin...</td>\n",
              "      <td>September 24, 2021</td>\n",
              "      <td>1993</td>\n",
              "      <td>TV-MA</td>\n",
              "      <td>125 min</td>\n",
              "      <td>Dramas, Independent Movies, International Movies</td>\n",
              "      <td>On a photo shoot in Ghana, an American model s...</td>\n",
              "    </tr>\n",
              "    <tr>\n",
              "      <th>8</th>\n",
              "      <td>s9</td>\n",
              "      <td>TV Show</td>\n",
              "      <td>The Great British Baking Show</td>\n",
              "      <td>Andy Devonshire</td>\n",
              "      <td>Mel Giedroyc, Sue Perkins, Mary Berry, Paul Ho...</td>\n",
              "      <td>United Kingdom</td>\n",
              "      <td>September 24, 2021</td>\n",
              "      <td>2021</td>\n",
              "      <td>TV-14</td>\n",
              "      <td>9 Seasons</td>\n",
              "      <td>British TV Shows, Reality TV</td>\n",
              "      <td>A talented batch of amateur bakers face off in...</td>\n",
              "    </tr>\n",
              "    <tr>\n",
              "      <th>9</th>\n",
              "      <td>s10</td>\n",
              "      <td>Movie</td>\n",
              "      <td>The Starling</td>\n",
              "      <td>Theodore Melfi</td>\n",
              "      <td>Melissa McCarthy, Chris O'Dowd, Kevin Kline, T...</td>\n",
              "      <td>United States</td>\n",
              "      <td>September 24, 2021</td>\n",
              "      <td>2021</td>\n",
              "      <td>PG-13</td>\n",
              "      <td>104 min</td>\n",
              "      <td>Comedies, Dramas</td>\n",
              "      <td>A woman adjusting to life after a loss contend...</td>\n",
              "    </tr>\n",
              "    <tr>\n",
              "      <th>12</th>\n",
              "      <td>s13</td>\n",
              "      <td>Movie</td>\n",
              "      <td>Je Suis Karl</td>\n",
              "      <td>Christian Schwochow</td>\n",
              "      <td>Luna Wedler, Jannis Niewöhner, Milan Peschel, ...</td>\n",
              "      <td>Germany, Czech Republic</td>\n",
              "      <td>September 23, 2021</td>\n",
              "      <td>2021</td>\n",
              "      <td>TV-MA</td>\n",
              "      <td>127 min</td>\n",
              "      <td>Dramas, International Movies</td>\n",
              "      <td>After most of her family is murdered in a terr...</td>\n",
              "    </tr>\n",
              "    <tr>\n",
              "      <th>24</th>\n",
              "      <td>s25</td>\n",
              "      <td>Movie</td>\n",
              "      <td>Jeans</td>\n",
              "      <td>S. Shankar</td>\n",
              "      <td>Prashanth, Aishwarya Rai Bachchan, Sri Lakshmi...</td>\n",
              "      <td>India</td>\n",
              "      <td>September 21, 2021</td>\n",
              "      <td>1998</td>\n",
              "      <td>TV-14</td>\n",
              "      <td>166 min</td>\n",
              "      <td>Comedies, International Movies, Romantic Movies</td>\n",
              "      <td>When the father of the man she loves insists t...</td>\n",
              "    </tr>\n",
              "  </tbody>\n",
              "</table>\n",
              "</div>"
            ],
            "text/plain": [
              "   show_id     type                          title             director  \\\n",
              "7       s8    Movie                        Sankofa         Haile Gerima   \n",
              "8       s9  TV Show  The Great British Baking Show      Andy Devonshire   \n",
              "9      s10    Movie                   The Starling       Theodore Melfi   \n",
              "12     s13    Movie                   Je Suis Karl  Christian Schwochow   \n",
              "24     s25    Movie                          Jeans           S. Shankar   \n",
              "\n",
              "                                                 cast  \\\n",
              "7   Kofi Ghanaba, Oyafunmike Ogunlano, Alexandra D...   \n",
              "8   Mel Giedroyc, Sue Perkins, Mary Berry, Paul Ho...   \n",
              "9   Melissa McCarthy, Chris O'Dowd, Kevin Kline, T...   \n",
              "12  Luna Wedler, Jannis Niewöhner, Milan Peschel, ...   \n",
              "24  Prashanth, Aishwarya Rai Bachchan, Sri Lakshmi...   \n",
              "\n",
              "                                              country          date_added  \\\n",
              "7   United States, Ghana, Burkina Faso, United Kin...  September 24, 2021   \n",
              "8                                      United Kingdom  September 24, 2021   \n",
              "9                                       United States  September 24, 2021   \n",
              "12                            Germany, Czech Republic  September 23, 2021   \n",
              "24                                              India  September 21, 2021   \n",
              "\n",
              "    release_year rating   duration  \\\n",
              "7           1993  TV-MA    125 min   \n",
              "8           2021  TV-14  9 Seasons   \n",
              "9           2021  PG-13    104 min   \n",
              "12          2021  TV-MA    127 min   \n",
              "24          1998  TV-14    166 min   \n",
              "\n",
              "                                           listed_in  \\\n",
              "7   Dramas, Independent Movies, International Movies   \n",
              "8                       British TV Shows, Reality TV   \n",
              "9                                   Comedies, Dramas   \n",
              "12                      Dramas, International Movies   \n",
              "24   Comedies, International Movies, Romantic Movies   \n",
              "\n",
              "                                          description  \n",
              "7   On a photo shoot in Ghana, an American model s...  \n",
              "8   A talented batch of amateur bakers face off in...  \n",
              "9   A woman adjusting to life after a loss contend...  \n",
              "12  After most of her family is murdered in a terr...  \n",
              "24  When the father of the man she loves insists t...  "
            ]
          },
          "execution_count": 28,
          "metadata": {},
          "output_type": "execute_result"
        }
      ],
      "source": [
        "df_cleaned = df.drop_duplicates(inplace=True)\n",
        "df.head()"
      ]
    },
    {
      "cell_type": "code",
      "execution_count": 29,
      "metadata": {
        "id": "kDVepLueW7gY"
      },
      "outputs": [
        {
          "name": "stdout",
          "output_type": "stream",
          "text": [
            "<class 'pandas.core.frame.DataFrame'>\n",
            "Index: 5332 entries, 7 to 8806\n",
            "Data columns (total 12 columns):\n",
            " #   Column        Non-Null Count  Dtype \n",
            "---  ------        --------------  ----- \n",
            " 0   show_id       5332 non-null   object\n",
            " 1   type          5332 non-null   object\n",
            " 2   title         5332 non-null   object\n",
            " 3   director      5332 non-null   object\n",
            " 4   cast          5332 non-null   object\n",
            " 5   country       5332 non-null   object\n",
            " 6   date_added    5332 non-null   object\n",
            " 7   release_year  5332 non-null   int64 \n",
            " 8   rating        5332 non-null   object\n",
            " 9   duration      5332 non-null   object\n",
            " 10  listed_in     5332 non-null   object\n",
            " 11  description   5332 non-null   object\n",
            "dtypes: int64(1), object(11)\n",
            "memory usage: 541.5+ KB\n"
          ]
        }
      ],
      "source": [
        "df.info()"
      ]
    },
    {
      "cell_type": "markdown",
      "metadata": {
        "id": "6cfbf59a"
      },
      "source": [
        "**Reasoning**:\n",
        "Inspect the data types of the DataFrame to identify columns with object data types, which typically contain text that might need standardization.\n",
        "\n"
      ]
    },
    {
      "cell_type": "code",
      "execution_count": 30,
      "metadata": {
        "colab": {
          "base_uri": "https://localhost:8080/"
        },
        "id": "94131d1f",
        "outputId": "0c52349c-c260-4f23-f0dd-b7c6c51c0877"
      },
      "outputs": [
        {
          "name": "stdout",
          "output_type": "stream",
          "text": [
            "show_id         object\n",
            "type            object\n",
            "title           object\n",
            "director        object\n",
            "cast            object\n",
            "country         object\n",
            "date_added      object\n",
            "release_year     int64\n",
            "rating          object\n",
            "duration        object\n",
            "listed_in       object\n",
            "description     object\n",
            "dtype: object\n"
          ]
        }
      ],
      "source": [
        "print(df.dtypes)"
      ]
    },
    {
      "cell_type": "markdown",
      "metadata": {
        "id": "4261e3e0"
      },
      "source": [
        "**Reasoning**:\n",
        "Based on the data types displayed, identify the object type columns that are likely to contain text data needing standardization and store their names in a list.\n",
        "\n"
      ]
    },
    {
      "cell_type": "code",
      "execution_count": 31,
      "metadata": {
        "colab": {
          "base_uri": "https://localhost:8080/"
        },
        "id": "dcf7cf7c",
        "outputId": "87f7128a-555e-49b1-a822-73b56a227ac6"
      },
      "outputs": [
        {
          "name": "stdout",
          "output_type": "stream",
          "text": [
            "['show_id', 'type', 'title', 'director', 'cast', 'country', 'date_added', 'rating', 'duration', 'listed_in', 'description']\n"
          ]
        }
      ],
      "source": [
        "text_columns = ['show_id', 'type', 'title', 'director', 'cast', 'country', 'date_added', 'rating', 'duration', 'listed_in', 'description']\n",
        "print(text_columns)"
      ]
    },
    {
      "cell_type": "markdown",
      "metadata": {
        "id": "12c85892"
      },
      "source": [
        "\n",
        "Select appropriate methods for standardization (e.g., converting to lowercase, removing punctuation, handling inconsistent spacing, correcting typos, standardizing categories).\n"
      ]
    },
    {
      "cell_type": "markdown",
      "metadata": {
        "id": "7159518b"
      },
      "source": [
        "**Reasoning**:\n",
        "Analyze the unique values and patterns in the identified text columns to determine appropriate standardization techniques.\n",
        "\n"
      ]
    },
    {
      "cell_type": "code",
      "execution_count": 32,
      "metadata": {
        "colab": {
          "base_uri": "https://localhost:8080/"
        },
        "id": "696efdca",
        "outputId": "a697c60e-13e1-44ee-a5d2-c406c2678172"
      },
      "outputs": [
        {
          "name": "stdout",
          "output_type": "stream",
          "text": [
            "Column: show_id\n",
            "Number of unique values: 5332\n",
            "******************************\n",
            "Column: type\n",
            "type\n",
            "Movie      5185\n",
            "TV Show     147\n",
            "Name: count, dtype: int64\n",
            "******************************\n",
            "Column: title\n",
            "Number of unique values: 5332\n",
            "******************************\n",
            "Column: director\n",
            "Number of unique values: 3945\n",
            "******************************\n",
            "Column: cast\n",
            "Number of unique values: 5200\n",
            "******************************\n",
            "Column: country\n",
            "Number of unique values: 604\n",
            "******************************\n",
            "Column: date_added\n",
            "Number of unique values: 1453\n",
            "******************************\n",
            "Column: rating\n",
            "rating\n",
            "TV-MA       1822\n",
            "TV-14       1214\n",
            "R            778\n",
            "PG-13        470\n",
            "TV-PG        431\n",
            "PG           275\n",
            "TV-G          84\n",
            "TV-Y7         76\n",
            "TV-Y          76\n",
            "NR            58\n",
            "G             40\n",
            "TV-Y7-FV       3\n",
            "UR             3\n",
            "NC-17          2\n",
            "Name: count, dtype: int64\n",
            "******************************\n",
            "Column: duration\n",
            "Number of unique values: 198\n",
            "******************************\n",
            "Column: listed_in\n",
            "Number of unique values: 335\n",
            "******************************\n",
            "Column: description\n",
            "Number of unique values: 5321\n",
            "******************************\n"
          ]
        }
      ],
      "source": [
        "for col in text_columns:\n",
        "    print(f\"Column: {col}\")\n",
        "    if df[col].nunique() < 50:\n",
        "        print(df[col].value_counts())\n",
        "    else:\n",
        "        print(f\"Number of unique values: {df[col].nunique()}\")\n",
        "    print(\"*\" * 30)"
      ]
    },
    {
      "cell_type": "markdown",
      "metadata": {
        "id": "f5d226f5"
      },
      "source": [
        "**Reasoning**:\n",
        "Based on the analysis of unique values, document the chosen standardization techniques for each text column.\n",
        "\n"
      ]
    },
    {
      "cell_type": "code",
      "execution_count": 33,
      "metadata": {
        "colab": {
          "base_uri": "https://localhost:8080/"
        },
        "id": "96436abc",
        "outputId": "c6545da1-056f-429a-ed70-d4f73e81fa44"
      },
      "outputs": [
        {
          "name": "stdout",
          "output_type": "stream",
          "text": [
            "Column: show_id\n",
            "Technique: No standardization needed as it is a unique identifier.\n",
            "------------------------------\n",
            "Column: type\n",
            "Technique: Convert to lowercase.\n",
            "------------------------------\n",
            "Column: title\n",
            "Technique: Convert to lowercase and remove leading/trailing whitespace. Address potential typos if necessary.\n",
            "------------------------------\n",
            "Column: director\n",
            "Technique: Convert to lowercase and remove leading/trailing whitespace. Handle multiple directors if present.\n",
            "------------------------------\n",
            "Column: cast\n",
            "Technique: Convert to lowercase and remove leading/trailing whitespace. Handle multiple cast members and their order if necessary.\n",
            "------------------------------\n",
            "Column: country\n",
            "Technique: Convert to lowercase and remove leading/trailing whitespace. Standardize country names if inconsistencies are found.\n",
            "------------------------------\n",
            "Column: date_added\n",
            "Technique: Convert to datetime objects.\n",
            "------------------------------\n",
            "Column: rating\n",
            "Technique: Convert to lowercase.\n",
            "------------------------------\n",
            "Column: duration\n",
            "Technique: Remove units (min, Seasons) and convert to numerical format.\n",
            "------------------------------\n",
            "Column: listed_in\n",
            "Technique: Convert to lowercase and remove leading/trailing whitespace. Handle multiple genres and their separation.\n",
            "------------------------------\n",
            "Column: description\n",
            "Technique: Convert to lowercase and remove leading/trailing whitespace. Remove punctuation if necessary.\n",
            "------------------------------\n"
          ]
        }
      ],
      "source": [
        "standardization_techniques = {\n",
        "    'show_id': 'No standardization needed as it is a unique identifier.',\n",
        "    'type': 'Convert to lowercase.',\n",
        "    'title': 'Convert to lowercase and remove leading/trailing whitespace. Address potential typos if necessary.',\n",
        "    'director': 'Convert to lowercase and remove leading/trailing whitespace. Handle multiple directors if present.',\n",
        "    'cast': 'Convert to lowercase and remove leading/trailing whitespace. Handle multiple cast members and their order if necessary.',\n",
        "    'country': 'Convert to lowercase and remove leading/trailing whitespace. Standardize country names if inconsistencies are found.',\n",
        "    'date_added': 'Convert to datetime objects.',\n",
        "    'rating': 'Convert to lowercase.',\n",
        "    'duration': 'Remove units (min, Seasons) and convert to numerical format.',\n",
        "    'listed_in': 'Convert to lowercase and remove leading/trailing whitespace. Handle multiple genres and their separation.',\n",
        "    'description': 'Convert to lowercase and remove leading/trailing whitespace. Remove punctuation if necessary.'\n",
        "}\n",
        "\n",
        "for col, technique in standardization_techniques.items():\n",
        "    print(f\"Column: {col}\")\n",
        "    print(f\"Technique: {technique}\")\n",
        "    print(\"-\" * 30)"
      ]
    },
    {
      "cell_type": "code",
      "execution_count": 34,
      "metadata": {
        "colab": {
          "base_uri": "https://localhost:8080/",
          "height": 645
        },
        "id": "x4Hrzp4HYnVr",
        "outputId": "8b781d5a-79d8-4c79-df00-fe353e95cd5a"
      },
      "outputs": [
        {
          "data": {
            "text/html": [
              "<div>\n",
              "<style scoped>\n",
              "    .dataframe tbody tr th:only-of-type {\n",
              "        vertical-align: middle;\n",
              "    }\n",
              "\n",
              "    .dataframe tbody tr th {\n",
              "        vertical-align: top;\n",
              "    }\n",
              "\n",
              "    .dataframe thead th {\n",
              "        text-align: right;\n",
              "    }\n",
              "</style>\n",
              "<table border=\"1\" class=\"dataframe\">\n",
              "  <thead>\n",
              "    <tr style=\"text-align: right;\">\n",
              "      <th></th>\n",
              "      <th>show_id</th>\n",
              "      <th>type</th>\n",
              "      <th>title</th>\n",
              "      <th>director</th>\n",
              "      <th>cast</th>\n",
              "      <th>country</th>\n",
              "      <th>date_added</th>\n",
              "      <th>release_year</th>\n",
              "      <th>rating</th>\n",
              "      <th>duration</th>\n",
              "      <th>listed_in</th>\n",
              "      <th>description</th>\n",
              "    </tr>\n",
              "  </thead>\n",
              "  <tbody>\n",
              "    <tr>\n",
              "      <th>7</th>\n",
              "      <td>s8</td>\n",
              "      <td>movie</td>\n",
              "      <td>sankofa</td>\n",
              "      <td>haile gerima</td>\n",
              "      <td>kofi ghanaba, oyafunmike ogunlano, alexandra d...</td>\n",
              "      <td>united states, ghana, burkina faso, united kin...</td>\n",
              "      <td>2021-09-24</td>\n",
              "      <td>1993</td>\n",
              "      <td>tv-ma</td>\n",
              "      <td>125</td>\n",
              "      <td>dramas, independent movies, international movies</td>\n",
              "      <td>on a photo shoot in ghana, an american model s...</td>\n",
              "    </tr>\n",
              "    <tr>\n",
              "      <th>8</th>\n",
              "      <td>s9</td>\n",
              "      <td>tv show</td>\n",
              "      <td>the great british baking show</td>\n",
              "      <td>andy devonshire</td>\n",
              "      <td>mel giedroyc, sue perkins, mary berry, paul ho...</td>\n",
              "      <td>united kingdom</td>\n",
              "      <td>2021-09-24</td>\n",
              "      <td>2021</td>\n",
              "      <td>tv-14</td>\n",
              "      <td>&lt;NA&gt;</td>\n",
              "      <td>british tv shows, reality tv</td>\n",
              "      <td>a talented batch of amateur bakers face off in...</td>\n",
              "    </tr>\n",
              "    <tr>\n",
              "      <th>9</th>\n",
              "      <td>s10</td>\n",
              "      <td>movie</td>\n",
              "      <td>the starling</td>\n",
              "      <td>theodore melfi</td>\n",
              "      <td>melissa mccarthy, chris o'dowd, kevin kline, t...</td>\n",
              "      <td>united states</td>\n",
              "      <td>2021-09-24</td>\n",
              "      <td>2021</td>\n",
              "      <td>pg-13</td>\n",
              "      <td>104</td>\n",
              "      <td>comedies, dramas</td>\n",
              "      <td>a woman adjusting to life after a loss contend...</td>\n",
              "    </tr>\n",
              "    <tr>\n",
              "      <th>12</th>\n",
              "      <td>s13</td>\n",
              "      <td>movie</td>\n",
              "      <td>je suis karl</td>\n",
              "      <td>christian schwochow</td>\n",
              "      <td>luna wedler, jannis niewöhner, milan peschel, ...</td>\n",
              "      <td>germany, czech republic</td>\n",
              "      <td>2021-09-23</td>\n",
              "      <td>2021</td>\n",
              "      <td>tv-ma</td>\n",
              "      <td>127</td>\n",
              "      <td>dramas, international movies</td>\n",
              "      <td>after most of her family is murdered in a terr...</td>\n",
              "    </tr>\n",
              "    <tr>\n",
              "      <th>24</th>\n",
              "      <td>s25</td>\n",
              "      <td>movie</td>\n",
              "      <td>jeans</td>\n",
              "      <td>s. shankar</td>\n",
              "      <td>prashanth, aishwarya rai bachchan, sri lakshmi...</td>\n",
              "      <td>india</td>\n",
              "      <td>2021-09-21</td>\n",
              "      <td>1998</td>\n",
              "      <td>tv-14</td>\n",
              "      <td>166</td>\n",
              "      <td>comedies, international movies, romantic movies</td>\n",
              "      <td>when the father of the man she loves insists t...</td>\n",
              "    </tr>\n",
              "  </tbody>\n",
              "</table>\n",
              "</div>"
            ],
            "text/plain": [
              "   show_id     type                          title             director  \\\n",
              "7       s8    movie                        sankofa         haile gerima   \n",
              "8       s9  tv show  the great british baking show      andy devonshire   \n",
              "9      s10    movie                   the starling       theodore melfi   \n",
              "12     s13    movie                   je suis karl  christian schwochow   \n",
              "24     s25    movie                          jeans           s. shankar   \n",
              "\n",
              "                                                 cast  \\\n",
              "7   kofi ghanaba, oyafunmike ogunlano, alexandra d...   \n",
              "8   mel giedroyc, sue perkins, mary berry, paul ho...   \n",
              "9   melissa mccarthy, chris o'dowd, kevin kline, t...   \n",
              "12  luna wedler, jannis niewöhner, milan peschel, ...   \n",
              "24  prashanth, aishwarya rai bachchan, sri lakshmi...   \n",
              "\n",
              "                                              country date_added  \\\n",
              "7   united states, ghana, burkina faso, united kin... 2021-09-24   \n",
              "8                                      united kingdom 2021-09-24   \n",
              "9                                       united states 2021-09-24   \n",
              "12                            germany, czech republic 2021-09-23   \n",
              "24                                              india 2021-09-21   \n",
              "\n",
              "    release_year rating duration  \\\n",
              "7           1993  tv-ma      125   \n",
              "8           2021  tv-14     <NA>   \n",
              "9           2021  pg-13      104   \n",
              "12          2021  tv-ma      127   \n",
              "24          1998  tv-14      166   \n",
              "\n",
              "                                           listed_in  \\\n",
              "7   dramas, independent movies, international movies   \n",
              "8                       british tv shows, reality tv   \n",
              "9                                   comedies, dramas   \n",
              "12                      dramas, international movies   \n",
              "24   comedies, international movies, romantic movies   \n",
              "\n",
              "                                          description  \n",
              "7   on a photo shoot in ghana, an american model s...  \n",
              "8   a talented batch of amateur bakers face off in...  \n",
              "9   a woman adjusting to life after a loss contend...  \n",
              "12  after most of her family is murdered in a terr...  \n",
              "24  when the father of the man she loves insists t...  "
            ]
          },
          "metadata": {},
          "output_type": "display_data"
        },
        {
          "name": "stdout",
          "output_type": "stream",
          "text": [
            "<class 'pandas.core.frame.DataFrame'>\n",
            "Index: 5332 entries, 7 to 8806\n",
            "Data columns (total 12 columns):\n",
            " #   Column        Non-Null Count  Dtype         \n",
            "---  ------        --------------  -----         \n",
            " 0   show_id       5332 non-null   object        \n",
            " 1   type          5332 non-null   object        \n",
            " 2   title         5332 non-null   object        \n",
            " 3   director      5332 non-null   object        \n",
            " 4   cast          5332 non-null   object        \n",
            " 5   country       5332 non-null   object        \n",
            " 6   date_added    5332 non-null   datetime64[ns]\n",
            " 7   release_year  5332 non-null   int64         \n",
            " 8   rating        5332 non-null   object        \n",
            " 9   duration      5185 non-null   object        \n",
            " 10  listed_in     5332 non-null   object        \n",
            " 11  description   5332 non-null   object        \n",
            "dtypes: datetime64[ns](1), int64(1), object(10)\n",
            "memory usage: 541.5+ KB\n"
          ]
        },
        {
          "data": {
            "text/plain": [
              "None"
            ]
          },
          "metadata": {},
          "output_type": "display_data"
        }
      ],
      "source": [
        "for col, technique in standardization_techniques.items():\n",
        "    if col in df.columns:\n",
        "        if 'Convert to lowercase' in technique:\n",
        "            df[col] = df[col].astype(str).str.lower()\n",
        "\n",
        "        if 'remove leading/trailing whitespace' in technique:\n",
        "            df[col] = df[col].astype(str).str.strip()\n",
        "\n",
        "        if col == 'date_added' and 'Convert to datetime objects' in technique:\n",
        "            df[col] = pd.to_datetime(df[col], format='mixed', errors='coerce')\n",
        "\n",
        "        if col == 'duration' and 'Remove units' in technique:\n",
        "            # Handle movie duration (e.g., '90 min')\n",
        "            movie_mask = df['type'] == 'movie'\n",
        "            df.loc[movie_mask, col] = df.loc[movie_mask, col].astype(str).str.replace(' min', '', regex=False)\n",
        "            df.loc[movie_mask, col] = pd.to_numeric(df.loc[movie_mask, col], errors='coerce').astype('Int64') # Use nullable integer type\n",
        "            \n",
        "            # Handle TV show duration (e.g., '2 Seasons')\n",
        "            tv_show_mask = df['type'] == 'tv show'\n",
        "            df.loc[tv_show_mask, col] = df.loc[tv_show_mask, col].astype(str).str.replace(' seasons', '', regex=False).str.replace(' season', '', regex=False)\n",
        "            df.loc[tv_show_mask, col] = pd.to_numeric(df.loc[tv_show_mask, col], errors='coerce').astype('Int64') # Use nullable integer type\n",
        "\n",
        "display(df.head())\n",
        "display(df.info())"
      ]
    },
    {
      "cell_type": "markdown",
      "metadata": {
        "id": "5705b866"
      },
      "source": [
        "## Verify standardization\n",
        "\n",
        "### Subtask:\n",
        "Check the results to ensure the text values have been standardized correctly.\n"
      ]
    },
    {
      "cell_type": "markdown",
      "metadata": {
        "id": "b27120f6"
      },
      "source": [
        "**Reasoning**:\n",
        "Select a few rows, check data types, sample values from lowercase/whitespace columns, and print unique values for 'type' and 'rating' to check the results of the standardization.\n",
        "\n"
      ]
    },
    {
      "cell_type": "code",
      "execution_count": 35,
      "metadata": {
        "id": "744c71e7"
      },
      "outputs": [
        {
          "data": {
            "text/plain": [
              "'Sampled rows after standardization:'"
            ]
          },
          "metadata": {},
          "output_type": "display_data"
        },
        {
          "data": {
            "text/html": [
              "<div>\n",
              "<style scoped>\n",
              "    .dataframe tbody tr th:only-of-type {\n",
              "        vertical-align: middle;\n",
              "    }\n",
              "\n",
              "    .dataframe tbody tr th {\n",
              "        vertical-align: top;\n",
              "    }\n",
              "\n",
              "    .dataframe thead th {\n",
              "        text-align: right;\n",
              "    }\n",
              "</style>\n",
              "<table border=\"1\" class=\"dataframe\">\n",
              "  <thead>\n",
              "    <tr style=\"text-align: right;\">\n",
              "      <th></th>\n",
              "      <th>show_id</th>\n",
              "      <th>type</th>\n",
              "      <th>title</th>\n",
              "      <th>director</th>\n",
              "      <th>cast</th>\n",
              "      <th>country</th>\n",
              "      <th>date_added</th>\n",
              "      <th>release_year</th>\n",
              "      <th>rating</th>\n",
              "      <th>duration</th>\n",
              "      <th>listed_in</th>\n",
              "      <th>description</th>\n",
              "    </tr>\n",
              "  </thead>\n",
              "  <tbody>\n",
              "    <tr>\n",
              "      <th>204</th>\n",
              "      <td>s205</td>\n",
              "      <td>movie</td>\n",
              "      <td>kyaa super kool hain hum</td>\n",
              "      <td>sachin yardi</td>\n",
              "      <td>tusshar kapoor, riteish deshmukh, anupam kher,...</td>\n",
              "      <td>india</td>\n",
              "      <td>2021-08-27</td>\n",
              "      <td>2012</td>\n",
              "      <td>tv-ma</td>\n",
              "      <td>136</td>\n",
              "      <td>comedies, international movies</td>\n",
              "      <td>an aspiring actor and a struggling dj team up ...</td>\n",
              "    </tr>\n",
              "    <tr>\n",
              "      <th>8455</th>\n",
              "      <td>s8456</td>\n",
              "      <td>movie</td>\n",
              "      <td>the pirate fairy</td>\n",
              "      <td>peggy holmes</td>\n",
              "      <td>mae whitman, christina hendricks, tom hiddlest...</td>\n",
              "      <td>united states</td>\n",
              "      <td>2014-06-15</td>\n",
              "      <td>2014</td>\n",
              "      <td>g</td>\n",
              "      <td>78</td>\n",
              "      <td>children &amp; family movies</td>\n",
              "      <td>in this spritely tale, tinker bell and her fri...</td>\n",
              "    </tr>\n",
              "    <tr>\n",
              "      <th>28</th>\n",
              "      <td>s29</td>\n",
              "      <td>movie</td>\n",
              "      <td>dark skies</td>\n",
              "      <td>scott stewart</td>\n",
              "      <td>keri russell, josh hamilton, j.k. simmons, dak...</td>\n",
              "      <td>united states</td>\n",
              "      <td>2021-09-19</td>\n",
              "      <td>2013</td>\n",
              "      <td>pg-13</td>\n",
              "      <td>97</td>\n",
              "      <td>horror movies, sci-fi &amp; fantasy</td>\n",
              "      <td>a family’s idyllic suburban life shatters when...</td>\n",
              "    </tr>\n",
              "  </tbody>\n",
              "</table>\n",
              "</div>"
            ],
            "text/plain": [
              "     show_id   type                     title       director  \\\n",
              "204     s205  movie  kyaa super kool hain hum   sachin yardi   \n",
              "8455   s8456  movie          the pirate fairy   peggy holmes   \n",
              "28       s29  movie                dark skies  scott stewart   \n",
              "\n",
              "                                                   cast        country  \\\n",
              "204   tusshar kapoor, riteish deshmukh, anupam kher,...          india   \n",
              "8455  mae whitman, christina hendricks, tom hiddlest...  united states   \n",
              "28    keri russell, josh hamilton, j.k. simmons, dak...  united states   \n",
              "\n",
              "     date_added  release_year rating duration  \\\n",
              "204  2021-08-27          2012  tv-ma      136   \n",
              "8455 2014-06-15          2014      g       78   \n",
              "28   2021-09-19          2013  pg-13       97   \n",
              "\n",
              "                            listed_in  \\\n",
              "204    comedies, international movies   \n",
              "8455         children & family movies   \n",
              "28    horror movies, sci-fi & fantasy   \n",
              "\n",
              "                                            description  \n",
              "204   an aspiring actor and a struggling dj team up ...  \n",
              "8455  in this spritely tale, tinker bell and her fri...  \n",
              "28    a family’s idyllic suburban life shatters when...  "
            ]
          },
          "metadata": {},
          "output_type": "display_data"
        },
        {
          "data": {
            "text/plain": [
              "'Data types after standardization:'"
            ]
          },
          "metadata": {},
          "output_type": "display_data"
        },
        {
          "name": "stdout",
          "output_type": "stream",
          "text": [
            "<class 'pandas.core.frame.DataFrame'>\n",
            "Index: 5332 entries, 7 to 8806\n",
            "Data columns (total 12 columns):\n",
            " #   Column        Non-Null Count  Dtype         \n",
            "---  ------        --------------  -----         \n",
            " 0   show_id       5332 non-null   object        \n",
            " 1   type          5332 non-null   object        \n",
            " 2   title         5332 non-null   object        \n",
            " 3   director      5332 non-null   object        \n",
            " 4   cast          5332 non-null   object        \n",
            " 5   country       5332 non-null   object        \n",
            " 6   date_added    5332 non-null   datetime64[ns]\n",
            " 7   release_year  5332 non-null   int64         \n",
            " 8   rating        5332 non-null   object        \n",
            " 9   duration      5185 non-null   object        \n",
            " 10  listed_in     5332 non-null   object        \n",
            " 11  description   5332 non-null   object        \n",
            "dtypes: datetime64[ns](1), int64(1), object(10)\n",
            "memory usage: 541.5+ KB\n"
          ]
        },
        {
          "data": {
            "text/plain": [
              "'Sampled values from lowercase/whitespace columns:'"
            ]
          },
          "metadata": {},
          "output_type": "display_data"
        },
        {
          "data": {
            "text/plain": [
              "'Column: title'"
            ]
          },
          "metadata": {},
          "output_type": "display_data"
        },
        {
          "data": {
            "text/plain": [
              "['modest heroes: ponoc short films theatre',\n",
              " 'over the moon',\n",
              " 'puriyatha puthir']"
            ]
          },
          "metadata": {},
          "output_type": "display_data"
        },
        {
          "data": {
            "text/plain": [
              "'Column: director'"
            ]
          },
          "metadata": {},
          "output_type": "display_data"
        },
        {
          "data": {
            "text/plain": [
              "['mahesh manjrekar', 'kip andersen, keegan kuhn', 'vic armstrong']"
            ]
          },
          "metadata": {},
          "output_type": "display_data"
        },
        {
          "data": {
            "text/plain": [
              "'Column: cast'"
            ]
          },
          "metadata": {},
          "output_type": "display_data"
        },
        {
          "data": {
            "text/plain": [
              "['nichole bloom, fabianne therese, michelle borth, pat healy, aj bowen, joshua leonard',\n",
              " 'richard wershe jr.',\n",
              " 'revathi, roger narayanan, sneha ravishankar, vidya shankar, sr leela']"
            ]
          },
          "metadata": {},
          "output_type": "display_data"
        },
        {
          "data": {
            "text/plain": [
              "'Column: country'"
            ]
          },
          "metadata": {},
          "output_type": "display_data"
        },
        {
          "data": {
            "text/plain": [
              "['united states', 'india', 'indonesia']"
            ]
          },
          "metadata": {},
          "output_type": "display_data"
        },
        {
          "data": {
            "text/plain": [
              "'Column: listed_in'"
            ]
          },
          "metadata": {},
          "output_type": "display_data"
        },
        {
          "data": {
            "text/plain": [
              "['action & adventure, dramas',\n",
              " 'action & adventure',\n",
              " 'children & family movies']"
            ]
          },
          "metadata": {},
          "output_type": "display_data"
        },
        {
          "data": {
            "text/plain": [
              "'Column: description'"
            ]
          },
          "metadata": {},
          "output_type": "display_data"
        },
        {
          "data": {
            "text/plain": [
              "['ten years after losing two loved ones, a man is plunged into another dizzying mystery when his girlfriend vanishes. based on a harlan coben novel.',\n",
              " 'a yoruba prince and a young lady from a prominent igbo family face tribal prejudice and parental pressure when they secretly wed.',\n",
              " \"when the king of brittania dies, the dragon who shares his heart must find a new ruler, but the monarch's grandchildren go to war over the throne.\"]"
            ]
          },
          "metadata": {},
          "output_type": "display_data"
        },
        {
          "data": {
            "text/plain": [
              "\"Unique values for 'type':\""
            ]
          },
          "metadata": {},
          "output_type": "display_data"
        },
        {
          "data": {
            "text/plain": [
              "array(['movie', 'tv show'], dtype=object)"
            ]
          },
          "metadata": {},
          "output_type": "display_data"
        },
        {
          "data": {
            "text/plain": [
              "\"Unique values for 'rating':\""
            ]
          },
          "metadata": {},
          "output_type": "display_data"
        },
        {
          "data": {
            "text/plain": [
              "array(['tv-ma', 'tv-14', 'pg-13', 'pg', 'r', 'tv-pg', 'g', 'tv-y7',\n",
              "       'tv-g', 'tv-y', 'nc-17', 'nr', 'tv-y7-fv', 'ur'], dtype=object)"
            ]
          },
          "metadata": {},
          "output_type": "display_data"
        }
      ],
      "source": [
        "# 1. Select a few rows to visually inspect\n",
        "display(\"Sampled rows after standardization:\")\n",
        "display(df.sample(3))\n",
        "\n",
        "# 2. Check data types of 'duration' and 'date_added'\n",
        "display(\"Data types after standardization:\")\n",
        "df.info()\n",
        "\n",
        "# 3. Sample values from columns with lowercase and whitespace removal\n",
        "cols_to_sample = ['title', 'director', 'cast', 'country', 'listed_in', 'description']\n",
        "display(\"Sampled values from lowercase/whitespace columns:\")\n",
        "for col in cols_to_sample:\n",
        "    display(f\"Column: {col}\")\n",
        "    display(df[col].sample(3).tolist())\n",
        "\n",
        "# 4. Print unique values for 'type' and 'rating'\n",
        "display(\"Unique values for 'type':\")\n",
        "display(df['type'].unique())\n",
        "display(\"Unique values for 'rating':\")\n",
        "display(df['rating'].unique())"
      ]
    },
    {
      "cell_type": "markdown",
      "metadata": {
        "id": "4887359c"
      },
      "source": [
        "Summary:\n",
        "\n",
        "Data Analysis Key Findings\n",
        "\n",
        "*   Text columns identified for standardization include 'show\\_id', 'type', 'title', 'director', 'cast', 'country', 'date\\_added', 'rating', 'duration', 'listed\\_in', and 'description'.\n",
        "*   'show\\_id' was determined to be a unique identifier requiring no text standardization.\n",
        "*   'date\\_added' was identified as a date field requiring conversion to datetime objects.\n",
        "*   'duration' required specific handling to remove units ('min', 'Seasons', 'Season') and convert to a numerical format, while also accounting for different types ('movie' and 'tv show').\n",
        "*   Other text columns like 'type', 'title', 'director', 'cast', 'country', 'rating', 'listed\\_in', and 'description' primarily required conversion to lowercase and removal of leading/trailing whitespace.\n",
        "*   The standardization process successfully converted relevant text columns to lowercase, removed whitespace, converted 'date\\_added' to datetime objects, and converted 'duration' to a nullable integer type after removing units based on content type.\n",
        "\n",
        "Insights or Next Steps\n",
        "\n",
        "*   The standardized text data is now ready for further analysis, such as frequency counts, keyword extraction, or natural language processing tasks.\n",
        "*   Further refinement of the 'cast', 'director', and 'listed\\_in' columns could involve splitting the strings into lists of individual names or categories for more granular analysis."
      ]
    },
    {
      "cell_type": "code",
      "execution_count": 36,
      "metadata": {
        "colab": {
          "base_uri": "https://localhost:8080/",
          "height": 16
        },
        "id": "DeD9THAU4ZCo",
        "outputId": "a9bb9352-ba87-42c0-bb1d-490754d726ae"
      },
      "outputs": [
        {
          "ename": "ModuleNotFoundError",
          "evalue": "No module named 'google'",
          "output_type": "error",
          "traceback": [
            "\u001b[31m---------------------------------------------------------------------------\u001b[39m",
            "\u001b[31mModuleNotFoundError\u001b[39m                       Traceback (most recent call last)",
            "\u001b[36mCell\u001b[39m\u001b[36m \u001b[39m\u001b[32mIn[36]\u001b[39m\u001b[32m, line 1\u001b[39m\n\u001b[32m----> \u001b[39m\u001b[32m1\u001b[39m \u001b[38;5;28;01mfrom\u001b[39;00m\u001b[38;5;250m \u001b[39m\u001b[34;01mgoogle\u001b[39;00m\u001b[34;01m.\u001b[39;00m\u001b[34;01mcolab\u001b[39;00m\u001b[38;5;250m \u001b[39m\u001b[38;5;28;01mimport\u001b[39;00m files\n\u001b[32m      2\u001b[39m df.to_csv(\u001b[33m'\u001b[39m\u001b[33mupdated_file.csv\u001b[39m\u001b[33m'\u001b[39m, index=\u001b[38;5;28;01mFalse\u001b[39;00m) \u001b[38;5;66;03m# 'index=False' prevents writing the DataFrame index to the CSV\u001b[39;00m\n\u001b[32m      3\u001b[39m files.download(\u001b[33m'\u001b[39m\u001b[33mupdated_file.csv\u001b[39m\u001b[33m'\u001b[39m)\n",
            "\u001b[31mModuleNotFoundError\u001b[39m: No module named 'google'"
          ]
        }
      ],
      "source": [
        "from google.colab import files\n",
        "df.to_csv('updated_file.csv', index=False) # 'index=False' prevents writing the DataFrame index to the CSV\n",
        "files.download('updated_file.csv')"
      ]
    }
  ],
  "metadata": {
    "colab": {
      "collapsed_sections": [
        "12c85892",
        "5705b866"
      ],
      "provenance": []
    },
    "kernelspec": {
      "display_name": "Python 3",
      "name": "python3"
    },
    "language_info": {
      "codemirror_mode": {
        "name": "ipython",
        "version": 3
      },
      "file_extension": ".py",
      "mimetype": "text/x-python",
      "name": "python",
      "nbconvert_exporter": "python",
      "pygments_lexer": "ipython3",
      "version": "3.13.5"
    }
  },
  "nbformat": 4,
  "nbformat_minor": 0
}
